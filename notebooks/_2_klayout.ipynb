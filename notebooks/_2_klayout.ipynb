{
 "cells": [
  {
   "cell_type": "markdown",
   "id": "0",
   "metadata": {},
   "source": [
    "# KLayout integration\n",
    "\n",
    "[KLayout](https://www.klayout.de/build.html) is a powerful open-source layout viewer and editor widely used in the semiconductor industry.\n",
    "\n",
    "In the GDSFactory code-driven workflow, you define components, circuits, and reticles using Python or YAML. To enable rapid design iteration, GDSFactory includes a KLayout macro extension, which runs directly inside KLayout. This allows you to visualize your layouts instantly: when you call `component.show()` in Python, your GDS layout is automatically displayed in KLayout.\n",
    "\n",
    "![workflow](https://i.imgur.com/yquTcM7.png)"
   ]
  },
  {
   "cell_type": "markdown",
   "id": "1",
   "metadata": {},
   "source": [
    "You can install the GDSFactory KLayout plugin to enable live GDS updates using `component.show()`, so you do not need to manually go through **File → Open → Select GDS** every time.\n",
    "\n",
    "Installing the plugin adds the following features:\n",
    "\n",
    "- Live display of GDS layouts with `component.show()`\n",
    "- Port visualization\n",
    "- PCell metadata inspection\n",
    "- Built-in `generic_pdk` layer map support"
   ]
  },
  {
   "cell_type": "markdown",
   "id": "2",
   "metadata": {},
   "source": [
    "![image.png](https://i.imgur.com/CmCe9Vp.png)"
   ]
  }
 ],
 "metadata": {
  "jupytext": {
   "cell_metadata_filter": "-all",
   "main_language": "python",
   "notebook_metadata_filter": "-all"
  },
  "language_info": {
   "name": "python"
  }
 },
 "nbformat": 4,
 "nbformat_minor": 5
}
